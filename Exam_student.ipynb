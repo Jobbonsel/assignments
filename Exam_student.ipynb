{
 "cells": [
  {
   "cell_type": "markdown",
   "metadata": {},
   "source": [
    "# Exam R\n",
    "Mark Klik & Misja Mikkers\n",
    "\n",
    "# Introduction\n",
    "\n",
    "The exam consists of 2 parts. In the first part, you have to run a regression, test if the assumptions of a linear regression model are met, and make 2 graphs.\n",
    "\n",
    "In the second part of the exam, you will have to make a map of Catholic and Protestant schools in the Netherlands.\n",
    "\n",
    "# Packages\n"
   ]
  },
  {
   "cell_type": "code",
   "execution_count": 34,
   "metadata": {},
   "outputs": [
    {
     "ename": "ERROR",
     "evalue": "Error in library(gvlma): there is no package called 'gvlma'\n",
     "output_type": "error",
     "traceback": [
      "Error in library(gvlma): there is no package called 'gvlma'\nTraceback:\n",
      "1. library(gvlma)",
      "2. stop(txt, domain = NA)"
     ]
    }
   ],
   "source": [
    "library(tidyverse)\n",
    "library(gvlma)"
   ]
  },
  {
   "cell_type": "markdown",
   "metadata": {},
   "source": [
    "# Assignment 1\n",
    "\n",
    "\n",
    "## Data\n",
    "\n",
    "The data are given:\n"
   ]
  },
  {
   "cell_type": "code",
   "execution_count": 11,
   "metadata": {},
   "outputs": [],
   "source": [
    "set.seed(123)\n",
    "df1 <- as.data.frame(matrix(runif(1*50, min = 1, max = 10), ncol = 1)) %>%\n",
    "    mutate(epsilon = rnorm(50, mean = 0, sd = 2)) %>%\n",
    "    mutate(response = 3 - 2* V1  + epsilon) %>%\n",
    "    mutate(group = ifelse(V1 <= 5, 1,2))"
   ]
  },
  {
   "cell_type": "markdown",
   "metadata": {},
   "source": [
    "## Asignment 1a\n",
    "\n",
    "The first assigment is to make boxplot using ggplot with group on the x-axis and V1 on the y-axis."
   ]
  },
  {
   "cell_type": "code",
   "execution_count": 6,
   "metadata": {},
   "outputs": [
    {
     "data": {},
     "metadata": {},
     "output_type": "display_data"
    },
    {
     "data": {
      "image/png": "[encoded data removed]",
      "text/plain": [
       "plot without title"
      ]
     },
     "metadata": {},
     "output_type": "display_data"
    }
   ],
   "source": [
    "ggplot (df1, aes(x = factor(group), y = V1)) + geom_boxplot() + labs(x=\"Group\", y=\"V1\")"
   ]
  },
  {
   "cell_type": "markdown",
   "metadata": {},
   "source": [
    "## Assignment 1b\n",
    "\n",
    "Run a regression with response variable as a function of V1.\n",
    "Show the summary statistics of the regression.\n"
   ]
  },
  {
   "cell_type": "code",
   "execution_count": 7,
   "metadata": {},
   "outputs": [
    {
     "data": {
      "text/plain": [
       "\n",
       "Call:\n",
       "lm(formula = response ~ V1, data = df1)\n",
       "\n",
       "Residuals:\n",
       "    Min      1Q  Median      3Q     Max \n",
       "-4.5116 -1.1157 -0.1313  1.0985  4.3723 \n",
       "\n",
       "Coefficients:\n",
       "            Estimate Std. Error t value Pr(>|t|)    \n",
       "(Intercept)   2.6305     0.6347   4.145 0.000138 ***\n",
       "V1           -1.9152     0.1014 -18.880  < 2e-16 ***\n",
       "---\n",
       "Signif. codes:  0 '***' 0.001 '**' 0.01 '*' 0.05 '.' 0.1 ' ' 1\n",
       "\n",
       "Residual standard error: 1.881 on 48 degrees of freedom\n",
       "Multiple R-squared:  0.8813,\tAdjusted R-squared:  0.8788 \n",
       "F-statistic: 356.4 on 1 and 48 DF,  p-value: < 2.2e-16\n"
      ]
     },
     "metadata": {},
     "output_type": "display_data"
    }
   ],
   "source": [
    "reg1 <- lm(response ~ V1, df1)\n",
    "summary(reg1)"
   ]
  },
  {
   "cell_type": "markdown",
   "metadata": {},
   "source": [
    "check if the assumptions of linear regression are met with the `gvlma()` function."
   ]
  },
  {
   "cell_type": "code",
   "execution_count": 8,
   "metadata": {},
   "outputs": [
    {
     "ename": "ERROR",
     "evalue": "Error in gvlma(reg1): could not find function \"gvlma\"\n",
     "output_type": "error",
     "traceback": [
      "Error in gvlma(reg1): could not find function \"gvlma\"\nTraceback:\n"
     ]
    }
   ],
   "source": [
    "gvlma(reg1)"
   ]
  },
  {
   "cell_type": "markdown",
   "metadata": {},
   "source": [
    "## Assignment 1c\n",
    "\n",
    "Make a scatterplot with: \n",
    "* V1 on the x-axis and the response on the y-axis\n",
    "* Include the regression line in red with confidence interval \n",
    "* In a classic theme\n",
    "* The x-axis should be labeled \"Predictor\", the y-axis should be labeled (\"Response\")\n",
    "\n"
   ]
  },
  {
   "cell_type": "code",
   "execution_count": 18,
   "metadata": {},
   "outputs": [
    {
     "data": {},
     "metadata": {},
     "output_type": "display_data"
    },
    {
     "data": {
      "image/png": "[encoded data removed]",
      "text/plain": [
       "plot without title"
      ]
     },
     "metadata": {},
     "output_type": "display_data"
    }
   ],
   "source": [
    "ggplot(df1, aes(x = V1, y = response)) + geom_point() + geom_smooth(method = \"lm\", colour = 'red') + ylab('Response') + xlab('Pedictor') + theme_classic()"
   ]
  },
  {
   "cell_type": "markdown",
   "metadata": {},
   "source": [
    "# Assigment 2\n",
    "\n",
    "# Packages"
   ]
  },
  {
   "cell_type": "code",
   "execution_count": null,
   "metadata": {},
   "outputs": [],
   "source": [
    "library(thematicmaps)\n",
    "library(tidyverse)"
   ]
  },
  {
   "cell_type": "markdown",
   "metadata": {},
   "source": [
    "## Assignment 2a\n",
    "\n",
    "First you have to read in the file \"nld_municipal_map.csv\".\n",
    "Hint: Look at the notebook of week 6 about maps."
   ]
  },
  {
   "cell_type": "code",
   "execution_count": 20,
   "metadata": {},
   "outputs": [
    {
     "data": {
      "text/html": [
       "<table>\n",
       "<thead><tr><th scope=col>name</th><th scope=col>id</th><th scope=col>x</th><th scope=col>y</th><th scope=col>order</th><th scope=col>hole</th><th scope=col>piece</th><th scope=col>group</th></tr></thead>\n",
       "<tbody>\n",
       "\t<tr><td>Appingedam</td><td>0         </td><td>251260.5  </td><td>594393.8  </td><td>1         </td><td>FALSE     </td><td>1         </td><td>0.1       </td></tr>\n",
       "\t<tr><td>Appingedam</td><td>0         </td><td>251427.8  </td><td>594486.7  </td><td>2         </td><td>FALSE     </td><td>1         </td><td>0.1       </td></tr>\n",
       "\t<tr><td>Appingedam</td><td>0         </td><td>251668.8  </td><td>594646.8  </td><td>3         </td><td>FALSE     </td><td>1         </td><td>0.1       </td></tr>\n",
       "\t<tr><td>Appingedam</td><td>0         </td><td>251713.5  </td><td>594770.9  </td><td>4         </td><td>FALSE     </td><td>1         </td><td>0.1       </td></tr>\n",
       "\t<tr><td>Appingedam</td><td>0         </td><td>251354.6  </td><td>595461.4  </td><td>5         </td><td>FALSE     </td><td>1         </td><td>0.1       </td></tr>\n",
       "\t<tr><td>Appingedam</td><td>0         </td><td>251310.3  </td><td>596022.5  </td><td>6         </td><td>FALSE     </td><td>1         </td><td>0.1       </td></tr>\n",
       "</tbody>\n",
       "</table>\n"
      ],
      "text/latex": [
       "\\begin{tabular}{r|llllllll}\n",
       " name & id & x & y & order & hole & piece & group\\\\\n",
       "\\hline\n",
       "\t Appingedam & 0          & 251260.5   & 594393.8   & 1          & FALSE      & 1          & 0.1       \\\\\n",
       "\t Appingedam & 0          & 251427.8   & 594486.7   & 2          & FALSE      & 1          & 0.1       \\\\\n",
       "\t Appingedam & 0          & 251668.8   & 594646.8   & 3          & FALSE      & 1          & 0.1       \\\\\n",
       "\t Appingedam & 0          & 251713.5   & 594770.9   & 4          & FALSE      & 1          & 0.1       \\\\\n",
       "\t Appingedam & 0          & 251354.6   & 595461.4   & 5          & FALSE      & 1          & 0.1       \\\\\n",
       "\t Appingedam & 0          & 251310.3   & 596022.5   & 6          & FALSE      & 1          & 0.1       \\\\\n",
       "\\end{tabular}\n"
      ],
      "text/markdown": [
       "\n",
       "name | id | x | y | order | hole | piece | group | \n",
       "|---|---|---|---|---|---|\n",
       "| Appingedam | 0          | 251260.5   | 594393.8   | 1          | FALSE      | 1          | 0.1        | \n",
       "| Appingedam | 0          | 251427.8   | 594486.7   | 2          | FALSE      | 1          | 0.1        | \n",
       "| Appingedam | 0          | 251668.8   | 594646.8   | 3          | FALSE      | 1          | 0.1        | \n",
       "| Appingedam | 0          | 251713.5   | 594770.9   | 4          | FALSE      | 1          | 0.1        | \n",
       "| Appingedam | 0          | 251354.6   | 595461.4   | 5          | FALSE      | 1          | 0.1        | \n",
       "| Appingedam | 0          | 251310.3   | 596022.5   | 6          | FALSE      | 1          | 0.1        | \n",
       "\n",
       "\n"
      ],
      "text/plain": [
       "  name       id x        y        order hole  piece group\n",
       "1 Appingedam 0  251260.5 594393.8 1     FALSE 1     0.1  \n",
       "2 Appingedam 0  251427.8 594486.7 2     FALSE 1     0.1  \n",
       "3 Appingedam 0  251668.8 594646.8 3     FALSE 1     0.1  \n",
       "4 Appingedam 0  251713.5 594770.9 4     FALSE 1     0.1  \n",
       "5 Appingedam 0  251354.6 595461.4 5     FALSE 1     0.1  \n",
       "6 Appingedam 0  251310.3 596022.5 6     FALSE 1     0.1  "
      ]
     },
     "metadata": {},
     "output_type": "display_data"
    }
   ],
   "source": [
    "map_municipal <- read.csv2(\"../Downloads/nld_municipal_map.csv\", stringsAsFactors = FALSE, dec = \".\")\n",
    "head(map_municipal)"
   ]
  },
  {
   "cell_type": "markdown",
   "metadata": {},
   "source": [
    "## Assignment 2b\n",
    "\n",
    "Now you can make an empty map of the Netherlands."
   ]
  },
  {
   "cell_type": "code",
   "execution_count": 21,
   "metadata": {},
   "outputs": [
    {
     "ename": "ERROR",
     "evalue": "Error in AddMapLayer(MapPlot(), map_municipal): could not find function \"AddMapLayer\"\n",
     "output_type": "error",
     "traceback": [
      "Error in AddMapLayer(MapPlot(), map_municipal): could not find function \"AddMapLayer\"\nTraceback:\n"
     ]
    }
   ],
   "source": [
    "AddMapLayer(MapPlot(), map_municipal)\n"
   ]
  },
  {
   "cell_type": "markdown",
   "metadata": {},
   "source": [
    "## Assignment 2c\n",
    "\n",
    "Read in the pc4 locations (nld_pc4_locations.csv).\n",
    "\n",
    "Hint: Don't forget the X and Y should be numeric variables!"
   ]
  },
  {
   "cell_type": "code",
   "execution_count": 28,
   "metadata": {},
   "outputs": [
    {
     "name": "stdout",
     "output_type": "stream",
     "text": [
      "'data.frame':\t4066 obs. of  3 variables:\n",
      " $ PC4: int  1011 1012 1013 1014 1015 1016 1017 1018 1019 1021 ...\n",
      " $ X  : num  122244 121613 120325 119515 120740 ...\n",
      " $ Y  : num  487223 487555 489672 489422 488009 ...\n"
     ]
    }
   ],
   "source": [
    "pc4_locations <- read.csv2(\"../Downloads/nld_pc4_locations.csv\")%>%\n",
    "mutate(X = as.numeric(as.character(X))) %>% mutate(Y = as.numeric(as.character(Y)))\n",
    "str(pc4_locations)"
   ]
  },
  {
   "cell_type": "markdown",
   "metadata": {},
   "source": [
    "## Assignment 2d\n",
    "\n",
    "### 2di\n",
    "\n",
    "Read in the school data\n"
   ]
  },
  {
   "cell_type": "code",
   "execution_count": 29,
   "metadata": {},
   "outputs": [],
   "source": [
    "schools <- read.csv2(\"../Downloads/schools.csv\")"
   ]
  },
  {
   "cell_type": "markdown",
   "metadata": {},
   "source": [
    "### 2dii\n",
    "\n",
    "First, create a new dataframe schools1, which is equal to schools.\n",
    "\n",
    "As you see POSTCODE has a structure of (1234 AB). You should create a new variable PC4 that is equal to the first 4 numbers in POSTCODE\n",
    "\n",
    "Hint: Use the function `substr()`\n",
    "\n",
    "Then select the variables PC4 and DENOMINATIE"
   ]
  },
  {
   "cell_type": "code",
   "execution_count": 30,
   "metadata": {},
   "outputs": [
    {
     "data": {
      "text/html": [
       "<table>\n",
       "<thead><tr><th scope=col>PC4</th><th scope=col>DENOMINATIE</th></tr></thead>\n",
       "<tbody>\n",
       "\t<tr><td>  NA    </td><td>Openbaar</td></tr>\n",
       "\t<tr><td>9406    </td><td>Openbaar</td></tr>\n",
       "\t<tr><td>9401    </td><td>Openbaar</td></tr>\n",
       "\t<tr><td>9402    </td><td>Openbaar</td></tr>\n",
       "\t<tr><td>9331    </td><td>Openbaar</td></tr>\n",
       "\t<tr><td>9411    </td><td>Openbaar</td></tr>\n",
       "</tbody>\n",
       "</table>\n"
      ],
      "text/latex": [
       "\\begin{tabular}{r|ll}\n",
       " PC4 & DENOMINATIE\\\\\n",
       "\\hline\n",
       "\t   NA     & Openbaar\\\\\n",
       "\t 9406     & Openbaar\\\\\n",
       "\t 9401     & Openbaar\\\\\n",
       "\t 9402     & Openbaar\\\\\n",
       "\t 9331     & Openbaar\\\\\n",
       "\t 9411     & Openbaar\\\\\n",
       "\\end{tabular}\n"
      ],
      "text/markdown": [
       "\n",
       "PC4 | DENOMINATIE | \n",
       "|---|---|---|---|---|---|\n",
       "|   NA     | Openbaar | \n",
       "| 9406     | Openbaar | \n",
       "| 9401     | Openbaar | \n",
       "| 9402     | Openbaar | \n",
       "| 9331     | Openbaar | \n",
       "| 9411     | Openbaar | \n",
       "\n",
       "\n"
      ],
      "text/plain": [
       "  PC4  DENOMINATIE\n",
       "1   NA Openbaar   \n",
       "2 9406 Openbaar   \n",
       "3 9401 Openbaar   \n",
       "4 9402 Openbaar   \n",
       "5 9331 Openbaar   \n",
       "6 9411 Openbaar   "
      ]
     },
     "metadata": {},
     "output_type": "display_data"
    },
    {
     "name": "stdout",
     "output_type": "stream",
     "text": [
      "'data.frame':\t1603 obs. of  2 variables:\n",
      " $ PC4        : int  NA 9406 9401 9402 9331 9411 9461 9402 9402 9403 ...\n",
      " $ DENOMINATIE: Factor w/ 25 levels \"                              \",..: 10 10 10 10 10 10 10 10 10 10 ...\n"
     ]
    }
   ],
   "source": [
    "schools1 <- schools %>%\n",
    "    mutate(PC4 = substr(POSTCODE,1 ,4))%>%\n",
    "    select(PC4, DENOMINATIE) %>%\n",
    "    mutate(PC4 = as.integer(PC4))\n",
    " \n",
    "head(schools1)\n",
    "str(schools1)"
   ]
  },
  {
   "cell_type": "markdown",
   "metadata": {},
   "source": [
    "### 2diii\n",
    "\n",
    "Create the dataframe school_loc as a join from pc4_locations and school1 that combines the columns from both data frames, but only keeps rows where the value in the pc4_locations column matches in both data frames.\n",
    "And then select the observations with DENOMINATIE is equal to \"Rooms-Katholiek\" or \"Protestants-Christelijk\""
   ]
  },
  {
   "cell_type": "code",
   "execution_count": 31,
   "metadata": {},
   "outputs": [
    {
     "data": {
      "text/html": [
       "<table>\n",
       "<thead><tr><th scope=col>PC4</th><th scope=col>X</th><th scope=col>Y</th><th scope=col>DENOMINATIE</th></tr></thead>\n",
       "<tbody>\n",
       "\t<tr><td>1065                   </td><td>116701.2               </td><td>485645.8               </td><td>Protestants-Christelijk</td></tr>\n",
       "\t<tr><td>1071                   </td><td>120223.0               </td><td>485571.3               </td><td>Rooms-Katholiek        </td></tr>\n",
       "\t<tr><td>1077                   </td><td>120152.7               </td><td>484262.8               </td><td>Rooms-Katholiek        </td></tr>\n",
       "\t<tr><td>1077                   </td><td>120152.7               </td><td>484262.8               </td><td>Protestants-Christelijk</td></tr>\n",
       "\t<tr><td>1081                   </td><td>118277.6               </td><td>482449.5               </td><td>Protestants-Christelijk</td></tr>\n",
       "\t<tr><td>1132                   </td><td>132947.2               </td><td>501873.0               </td><td>Rooms-Katholiek        </td></tr>\n",
       "</tbody>\n",
       "</table>\n"
      ],
      "text/latex": [
       "\\begin{tabular}{r|llll}\n",
       " PC4 & X & Y & DENOMINATIE\\\\\n",
       "\\hline\n",
       "\t 1065                    & 116701.2                & 485645.8                & Protestants-Christelijk\\\\\n",
       "\t 1071                    & 120223.0                & 485571.3                & Rooms-Katholiek        \\\\\n",
       "\t 1077                    & 120152.7                & 484262.8                & Rooms-Katholiek        \\\\\n",
       "\t 1077                    & 120152.7                & 484262.8                & Protestants-Christelijk\\\\\n",
       "\t 1081                    & 118277.6                & 482449.5                & Protestants-Christelijk\\\\\n",
       "\t 1132                    & 132947.2                & 501873.0                & Rooms-Katholiek        \\\\\n",
       "\\end{tabular}\n"
      ],
      "text/markdown": [
       "\n",
       "PC4 | X | Y | DENOMINATIE | \n",
       "|---|---|---|---|---|---|\n",
       "| 1065                    | 116701.2                | 485645.8                | Protestants-Christelijk | \n",
       "| 1071                    | 120223.0                | 485571.3                | Rooms-Katholiek         | \n",
       "| 1077                    | 120152.7                | 484262.8                | Rooms-Katholiek         | \n",
       "| 1077                    | 120152.7                | 484262.8                | Protestants-Christelijk | \n",
       "| 1081                    | 118277.6                | 482449.5                | Protestants-Christelijk | \n",
       "| 1132                    | 132947.2                | 501873.0                | Rooms-Katholiek         | \n",
       "\n",
       "\n"
      ],
      "text/plain": [
       "  PC4  X        Y        DENOMINATIE            \n",
       "1 1065 116701.2 485645.8 Protestants-Christelijk\n",
       "2 1071 120223.0 485571.3 Rooms-Katholiek        \n",
       "3 1077 120152.7 484262.8 Rooms-Katholiek        \n",
       "4 1077 120152.7 484262.8 Protestants-Christelijk\n",
       "5 1081 118277.6 482449.5 Protestants-Christelijk\n",
       "6 1132 132947.2 501873.0 Rooms-Katholiek        "
      ]
     },
     "metadata": {},
     "output_type": "display_data"
    }
   ],
   "source": [
    "school_loc <- inner_join(pc4_locations, schools1, by = 'PC4') %>%\n",
    "    filter(DENOMINATIE == 'Rooms-Katholiek' | DENOMINATIE == 'Protestants-Christelijk')\n",
    "head(school_loc)"
   ]
  },
  {
   "cell_type": "markdown",
   "metadata": {},
   "source": [
    "## Assignment 2e\n",
    "\n",
    "Create a map of Catholic and Protestant schools in the Netherlands\n"
   ]
  },
  {
   "cell_type": "code",
   "execution_count": 32,
   "metadata": {},
   "outputs": [
    {
     "ename": "ERROR",
     "evalue": "Error in AddMapLayer(MapPlot(), map_municipal): could not find function \"AddMapLayer\"\n",
     "output_type": "error",
     "traceback": [
      "Error in AddMapLayer(MapPlot(), map_municipal): could not find function \"AddMapLayer\"\nTraceback:\n",
      "1. AddMapLayer(MapPlot(), map_municipal) %>% AddPointsLayer(school_loc)",
      "2. eval(lhs, parent, parent)",
      "3. eval(lhs, parent, parent)"
     ]
    }
   ],
   "source": [
    " AddMapLayer(MapPlot(), map_municipal) %>%\n",
    "    AddPointsLayer(school_loc)"
   ]
  },
  {
   "cell_type": "markdown",
   "metadata": {},
   "source": [
    "End of notebook"
   ]
  }
 ],
 "metadata": {
  "anaconda-cloud": {},
  "kernelspec": {
   "display_name": "R",
   "language": "R",
   "name": "ir"
  },
  "language_info": {
   "codemirror_mode": "r",
   "file_extension": ".r",
   "mimetype": "text/x-r-source",
   "name": "R",
   "pygments_lexer": "r",
   "version": "3.4.3"
  }
 },
 "nbformat": 4,
 "nbformat_minor": 1
}
